{
 "cells": [
  {
   "cell_type": "code",
   "execution_count": 12,
   "metadata": {
    "collapsed": true
   },
   "outputs": [],
   "source": [
    "import pandas as pd\n",
    "import numpy as np\n",
    "import matplotlib.pyplot as plt\n",
    "%matplotlib inline\n",
    "\n",
    "import random"
   ]
  },
  {
   "cell_type": "code",
   "execution_count": 14,
   "metadata": {
    "collapsed": false
   },
   "outputs": [],
   "source": [
    "n = 3000000 #number of records in file\n",
    "s = 30000 #desired sample size\n",
    "filename = \"../Data/amazon_review_full_csv/train.csv\"\n",
    "skip = sorted(random.sample(range(n),n-s))\n",
    "\n",
    "data_df = pd.read_csv(filename, header=None,skiprows=skip)"
   ]
  },
  {
   "cell_type": "code",
   "execution_count": 15,
   "metadata": {
    "collapsed": false
   },
   "outputs": [
    {
     "data": {
      "text/html": [
       "<div>\n",
       "<style>\n",
       "    .dataframe thead tr:only-child th {\n",
       "        text-align: right;\n",
       "    }\n",
       "\n",
       "    .dataframe thead th {\n",
       "        text-align: left;\n",
       "    }\n",
       "\n",
       "    .dataframe tbody tr th {\n",
       "        vertical-align: top;\n",
       "    }\n",
       "</style>\n",
       "<table border=\"1\" class=\"dataframe\">\n",
       "  <thead>\n",
       "    <tr style=\"text-align: right;\">\n",
       "      <th></th>\n",
       "      <th>0</th>\n",
       "      <th>1</th>\n",
       "      <th>2</th>\n",
       "    </tr>\n",
       "  </thead>\n",
       "  <tbody>\n",
       "    <tr>\n",
       "      <th>0</th>\n",
       "      <td>1</td>\n",
       "      <td>The Worst!</td>\n",
       "      <td>A complete waste of time. Typographical errors...</td>\n",
       "    </tr>\n",
       "    <tr>\n",
       "      <th>1</th>\n",
       "      <td>5</td>\n",
       "      <td>Rochelle explains It All for You</td>\n",
       "      <td>Wondering what the hell has happened to the mo...</td>\n",
       "    </tr>\n",
       "    <tr>\n",
       "      <th>2</th>\n",
       "      <td>5</td>\n",
       "      <td>NYTimes Likes IT</td>\n",
       "      <td>BARBIE AS RAPUNZEL: A CREATIVE ADVENTURE. I do...</td>\n",
       "    </tr>\n",
       "    <tr>\n",
       "      <th>3</th>\n",
       "      <td>5</td>\n",
       "      <td>Great primer on Bar Coding</td>\n",
       "      <td>This is a great book for anybody who wants to ...</td>\n",
       "    </tr>\n",
       "    <tr>\n",
       "      <th>4</th>\n",
       "      <td>1</td>\n",
       "      <td>Worst \"Live\" recording I've ever bought!</td>\n",
       "      <td>I bought this CD for one song only, \"Steal Awa...</td>\n",
       "    </tr>\n",
       "  </tbody>\n",
       "</table>\n",
       "</div>"
      ],
      "text/plain": [
       "   0                                         1  \\\n",
       "0  1                                The Worst!   \n",
       "1  5          Rochelle explains It All for You   \n",
       "2  5                          NYTimes Likes IT   \n",
       "3  5                Great primer on Bar Coding   \n",
       "4  1  Worst \"Live\" recording I've ever bought!   \n",
       "\n",
       "                                                   2  \n",
       "0  A complete waste of time. Typographical errors...  \n",
       "1  Wondering what the hell has happened to the mo...  \n",
       "2  BARBIE AS RAPUNZEL: A CREATIVE ADVENTURE. I do...  \n",
       "3  This is a great book for anybody who wants to ...  \n",
       "4  I bought this CD for one song only, \"Steal Awa...  "
      ]
     },
     "execution_count": 15,
     "metadata": {},
     "output_type": "execute_result"
    }
   ],
   "source": [
    "data_df.head()"
   ]
  },
  {
   "cell_type": "code",
   "execution_count": 16,
   "metadata": {
    "collapsed": true
   },
   "outputs": [],
   "source": [
    "data_df.columns =['Rating','Review Title', 'Review Text']"
   ]
  },
  {
   "cell_type": "code",
   "execution_count": 17,
   "metadata": {
    "collapsed": false
   },
   "outputs": [
    {
     "data": {
      "text/html": [
       "<div>\n",
       "<style>\n",
       "    .dataframe thead tr:only-child th {\n",
       "        text-align: right;\n",
       "    }\n",
       "\n",
       "    .dataframe thead th {\n",
       "        text-align: left;\n",
       "    }\n",
       "\n",
       "    .dataframe tbody tr th {\n",
       "        vertical-align: top;\n",
       "    }\n",
       "</style>\n",
       "<table border=\"1\" class=\"dataframe\">\n",
       "  <thead>\n",
       "    <tr style=\"text-align: right;\">\n",
       "      <th></th>\n",
       "      <th>Rating</th>\n",
       "      <th>Review Title</th>\n",
       "      <th>Review Text</th>\n",
       "    </tr>\n",
       "  </thead>\n",
       "  <tbody>\n",
       "    <tr>\n",
       "      <th>0</th>\n",
       "      <td>1</td>\n",
       "      <td>The Worst!</td>\n",
       "      <td>A complete waste of time. Typographical errors...</td>\n",
       "    </tr>\n",
       "    <tr>\n",
       "      <th>1</th>\n",
       "      <td>5</td>\n",
       "      <td>Rochelle explains It All for You</td>\n",
       "      <td>Wondering what the hell has happened to the mo...</td>\n",
       "    </tr>\n",
       "    <tr>\n",
       "      <th>2</th>\n",
       "      <td>5</td>\n",
       "      <td>NYTimes Likes IT</td>\n",
       "      <td>BARBIE AS RAPUNZEL: A CREATIVE ADVENTURE. I do...</td>\n",
       "    </tr>\n",
       "    <tr>\n",
       "      <th>3</th>\n",
       "      <td>5</td>\n",
       "      <td>Great primer on Bar Coding</td>\n",
       "      <td>This is a great book for anybody who wants to ...</td>\n",
       "    </tr>\n",
       "    <tr>\n",
       "      <th>4</th>\n",
       "      <td>1</td>\n",
       "      <td>Worst \"Live\" recording I've ever bought!</td>\n",
       "      <td>I bought this CD for one song only, \"Steal Awa...</td>\n",
       "    </tr>\n",
       "  </tbody>\n",
       "</table>\n",
       "</div>"
      ],
      "text/plain": [
       "   Rating                              Review Title  \\\n",
       "0       1                                The Worst!   \n",
       "1       5          Rochelle explains It All for You   \n",
       "2       5                          NYTimes Likes IT   \n",
       "3       5                Great primer on Bar Coding   \n",
       "4       1  Worst \"Live\" recording I've ever bought!   \n",
       "\n",
       "                                         Review Text  \n",
       "0  A complete waste of time. Typographical errors...  \n",
       "1  Wondering what the hell has happened to the mo...  \n",
       "2  BARBIE AS RAPUNZEL: A CREATIVE ADVENTURE. I do...  \n",
       "3  This is a great book for anybody who wants to ...  \n",
       "4  I bought this CD for one song only, \"Steal Awa...  "
      ]
     },
     "execution_count": 17,
     "metadata": {},
     "output_type": "execute_result"
    }
   ],
   "source": [
    "data_df.head()"
   ]
  },
  {
   "cell_type": "code",
   "execution_count": 18,
   "metadata": {
    "collapsed": false
   },
   "outputs": [
    {
     "data": {
      "text/plain": [
       "(30000, 3)"
      ]
     },
     "execution_count": 18,
     "metadata": {},
     "output_type": "execute_result"
    }
   ],
   "source": [
    "data_df.shape"
   ]
  },
  {
   "cell_type": "code",
   "execution_count": null,
   "metadata": {
    "collapsed": true
   },
   "outputs": [],
   "source": []
  }
 ],
 "metadata": {
  "anaconda-cloud": {},
  "kernelspec": {
   "display_name": "Python [conda env:py36]",
   "language": "python",
   "name": "conda-env-py36-py"
  },
  "language_info": {
   "codemirror_mode": {
    "name": "ipython",
    "version": 3
   },
   "file_extension": ".py",
   "mimetype": "text/x-python",
   "name": "python",
   "nbconvert_exporter": "python",
   "pygments_lexer": "ipython3",
   "version": "3.5.3"
  }
 },
 "nbformat": 4,
 "nbformat_minor": 1
}
