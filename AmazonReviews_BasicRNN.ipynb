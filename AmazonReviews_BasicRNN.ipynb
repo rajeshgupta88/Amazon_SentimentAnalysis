{
 "cells": [
  {
   "cell_type": "code",
   "execution_count": 1,
   "metadata": {
    "collapsed": false
   },
   "outputs": [],
   "source": [
    "import pandas as pd\n",
    "import numpy as np\n",
    "import tensorflow as tf\n",
    "import matplotlib.pyplot as plt\n",
    "%matplotlib inline\n",
    "\n",
    "import random\n",
    "import plotly.graph_objs as go\n",
    "#import plotly.offline as py\n",
    "#py.init_notebook_mode(connected=True)\n",
    "\n",
    "\n",
    "from bs4 import BeautifulSoup\n",
    "import re\n",
    "from nltk.corpus import stopwords"
   ]
  },
  {
   "cell_type": "code",
   "execution_count": 28,
   "metadata": {
    "collapsed": false
   },
   "outputs": [],
   "source": [
    "n = 3000000 #number of records in file\n",
    "s = 30000 #desired sample size\n",
    "filename = \"../Data/amazon_review_full_csv/train.csv\"\n",
    "skip = sorted(random.sample(range(n),n-s))\n",
    "\n",
    "data_df = pd.read_csv(filename, header=None,skiprows=skip)"
   ]
  },
  {
   "cell_type": "code",
   "execution_count": 29,
   "metadata": {
    "collapsed": false
   },
   "outputs": [
    {
     "data": {
      "text/html": [
       "<div>\n",
       "<style>\n",
       "    .dataframe thead tr:only-child th {\n",
       "        text-align: right;\n",
       "    }\n",
       "\n",
       "    .dataframe thead th {\n",
       "        text-align: left;\n",
       "    }\n",
       "\n",
       "    .dataframe tbody tr th {\n",
       "        vertical-align: top;\n",
       "    }\n",
       "</style>\n",
       "<table border=\"1\" class=\"dataframe\">\n",
       "  <thead>\n",
       "    <tr style=\"text-align: right;\">\n",
       "      <th></th>\n",
       "      <th>0</th>\n",
       "      <th>1</th>\n",
       "      <th>2</th>\n",
       "    </tr>\n",
       "  </thead>\n",
       "  <tbody>\n",
       "    <tr>\n",
       "      <th>0</th>\n",
       "      <td>1</td>\n",
       "      <td>Don't buy from Eforcity -- slow, disingenuous</td>\n",
       "      <td>What am I reviewing here... this gizmo or the ...</td>\n",
       "    </tr>\n",
       "    <tr>\n",
       "      <th>1</th>\n",
       "      <td>4</td>\n",
       "      <td>Nice Thomas Sampler</td>\n",
       "      <td>Marking the 10th Anniversary of Thomas videos ...</td>\n",
       "    </tr>\n",
       "    <tr>\n",
       "      <th>2</th>\n",
       "      <td>2</td>\n",
       "      <td>Wrong item sent.</td>\n",
       "      <td>I got the shippment quickly. But wrong items w...</td>\n",
       "    </tr>\n",
       "    <tr>\n",
       "      <th>3</th>\n",
       "      <td>3</td>\n",
       "      <td>Riveting!</td>\n",
       "      <td>Don't let the first quarter of this book disco...</td>\n",
       "    </tr>\n",
       "    <tr>\n",
       "      <th>4</th>\n",
       "      <td>1</td>\n",
       "      <td>Negative Stars! Avoid like flesh eating bacteria!</td>\n",
       "      <td>\"Lets jiggel the camera to show that the groun...</td>\n",
       "    </tr>\n",
       "  </tbody>\n",
       "</table>\n",
       "</div>"
      ],
      "text/plain": [
       "   0                                                  1  \\\n",
       "0  1      Don't buy from Eforcity -- slow, disingenuous   \n",
       "1  4                                Nice Thomas Sampler   \n",
       "2  2                                   Wrong item sent.   \n",
       "3  3                                          Riveting!   \n",
       "4  1  Negative Stars! Avoid like flesh eating bacteria!   \n",
       "\n",
       "                                                   2  \n",
       "0  What am I reviewing here... this gizmo or the ...  \n",
       "1  Marking the 10th Anniversary of Thomas videos ...  \n",
       "2  I got the shippment quickly. But wrong items w...  \n",
       "3  Don't let the first quarter of this book disco...  \n",
       "4  \"Lets jiggel the camera to show that the groun...  "
      ]
     },
     "execution_count": 29,
     "metadata": {},
     "output_type": "execute_result"
    }
   ],
   "source": [
    "data_df.head()"
   ]
  },
  {
   "cell_type": "code",
   "execution_count": 30,
   "metadata": {
    "collapsed": true
   },
   "outputs": [],
   "source": [
    "data_df.columns =['Rating','Review Title', 'Review Text']"
   ]
  },
  {
   "cell_type": "code",
   "execution_count": 31,
   "metadata": {
    "collapsed": false
   },
   "outputs": [
    {
     "data": {
      "text/html": [
       "<div>\n",
       "<style>\n",
       "    .dataframe thead tr:only-child th {\n",
       "        text-align: right;\n",
       "    }\n",
       "\n",
       "    .dataframe thead th {\n",
       "        text-align: left;\n",
       "    }\n",
       "\n",
       "    .dataframe tbody tr th {\n",
       "        vertical-align: top;\n",
       "    }\n",
       "</style>\n",
       "<table border=\"1\" class=\"dataframe\">\n",
       "  <thead>\n",
       "    <tr style=\"text-align: right;\">\n",
       "      <th></th>\n",
       "      <th>Rating</th>\n",
       "      <th>Review Title</th>\n",
       "      <th>Review Text</th>\n",
       "    </tr>\n",
       "  </thead>\n",
       "  <tbody>\n",
       "    <tr>\n",
       "      <th>0</th>\n",
       "      <td>1</td>\n",
       "      <td>Don't buy from Eforcity -- slow, disingenuous</td>\n",
       "      <td>What am I reviewing here... this gizmo or the ...</td>\n",
       "    </tr>\n",
       "    <tr>\n",
       "      <th>1</th>\n",
       "      <td>4</td>\n",
       "      <td>Nice Thomas Sampler</td>\n",
       "      <td>Marking the 10th Anniversary of Thomas videos ...</td>\n",
       "    </tr>\n",
       "    <tr>\n",
       "      <th>2</th>\n",
       "      <td>2</td>\n",
       "      <td>Wrong item sent.</td>\n",
       "      <td>I got the shippment quickly. But wrong items w...</td>\n",
       "    </tr>\n",
       "    <tr>\n",
       "      <th>3</th>\n",
       "      <td>3</td>\n",
       "      <td>Riveting!</td>\n",
       "      <td>Don't let the first quarter of this book disco...</td>\n",
       "    </tr>\n",
       "    <tr>\n",
       "      <th>4</th>\n",
       "      <td>1</td>\n",
       "      <td>Negative Stars! Avoid like flesh eating bacteria!</td>\n",
       "      <td>\"Lets jiggel the camera to show that the groun...</td>\n",
       "    </tr>\n",
       "  </tbody>\n",
       "</table>\n",
       "</div>"
      ],
      "text/plain": [
       "   Rating                                       Review Title  \\\n",
       "0       1      Don't buy from Eforcity -- slow, disingenuous   \n",
       "1       4                                Nice Thomas Sampler   \n",
       "2       2                                   Wrong item sent.   \n",
       "3       3                                          Riveting!   \n",
       "4       1  Negative Stars! Avoid like flesh eating bacteria!   \n",
       "\n",
       "                                         Review Text  \n",
       "0  What am I reviewing here... this gizmo or the ...  \n",
       "1  Marking the 10th Anniversary of Thomas videos ...  \n",
       "2  I got the shippment quickly. But wrong items w...  \n",
       "3  Don't let the first quarter of this book disco...  \n",
       "4  \"Lets jiggel the camera to show that the groun...  "
      ]
     },
     "execution_count": 31,
     "metadata": {},
     "output_type": "execute_result"
    }
   ],
   "source": [
    "data_df.head()"
   ]
  },
  {
   "cell_type": "code",
   "execution_count": 32,
   "metadata": {
    "collapsed": false
   },
   "outputs": [
    {
     "data": {
      "text/plain": [
       "(30000, 3)"
      ]
     },
     "execution_count": 32,
     "metadata": {},
     "output_type": "execute_result"
    }
   ],
   "source": [
    "data_df.shape"
   ]
  },
  {
   "cell_type": "code",
   "execution_count": 33,
   "metadata": {
    "collapsed": false
   },
   "outputs": [
    {
     "data": {
      "text/plain": [
       "5"
      ]
     },
     "execution_count": 33,
     "metadata": {},
     "output_type": "execute_result"
    }
   ],
   "source": [
    "data_df['Rating'].nunique()"
   ]
  },
  {
   "cell_type": "code",
   "execution_count": 34,
   "metadata": {
    "collapsed": false
   },
   "outputs": [
    {
     "data": {
      "text/plain": [
       "(array([ 0.51175   ,  0.        ,  0.50408333,  0.        ,  0.        ,\n",
       "         0.49066667,  0.        ,  0.50033333,  0.        ,  0.49316667]),\n",
       " array([ 1. ,  1.4,  1.8,  2.2,  2.6,  3. ,  3.4,  3.8,  4.2,  4.6,  5. ]),\n",
       " <a list of 10 Patch objects>)"
      ]
     },
     "execution_count": 34,
     "metadata": {},
     "output_type": "execute_result"
    },
    {
     "data": {
      "image/png": "[encoded data removed]",
      "text/plain": [
       "<matplotlib.figure.Figure at 0x7f1521e4f048>"
      ]
     },
     "metadata": {},
     "output_type": "display_data"
    }
   ],
   "source": [
    "plt.hist(data_df['Rating'], align='mid', normed=1)"
   ]
  },
  {
   "cell_type": "code",
   "execution_count": 35,
   "metadata": {
    "collapsed": false
   },
   "outputs": [],
   "source": [
    "# Converting rating into Binary class\n",
    "data_df['Rating']= data_df['Rating'].replace([1,2],0)\n",
    "data_df['Rating']= data_df['Rating'].replace([3,4,5],1)"
   ]
  },
  {
   "cell_type": "code",
   "execution_count": 36,
   "metadata": {
    "collapsed": false,
    "scrolled": true
   },
   "outputs": [
    {
     "data": {
      "text/plain": [
       "(array([ 12190.,      0.,      0.,      0.,      0.,      0.,      0.,\n",
       "             0.,      0.,  17810.]),\n",
       " array([ 0. ,  0.1,  0.2,  0.3,  0.4,  0.5,  0.6,  0.7,  0.8,  0.9,  1. ]),\n",
       " <a list of 10 Patch objects>)"
      ]
     },
     "execution_count": 36,
     "metadata": {},
     "output_type": "execute_result"
    },
    {
     "data": {
      "image/png": "[encoded data removed]",
      "text/plain": [
       "<matplotlib.figure.Figure at 0x7f1520e7b668>"
      ]
     },
     "metadata": {},
     "output_type": "display_data"
    }
   ],
   "source": [
    "plt.hist(data_df['Rating'], align='mid')\n"
   ]
  },
  {
   "cell_type": "markdown",
   "metadata": {},
   "source": [
    "## Data Preparation"
   ]
  },
  {
   "cell_type": "code",
   "execution_count": 37,
   "metadata": {
    "collapsed": true
   },
   "outputs": [],
   "source": [
    "def reviews_to_words (raw_reviews):\n",
    "    \n",
    "    # Remove the HTML characters\n",
    "    reviews_text = BeautifulSoup(raw_reviews)\n",
    "    \n",
    "    # Remove the punctuals\n",
    "    letters_only = re.sub(\"[^a-zA-Z]\",\" \",reviews_text.get_text())\n",
    "    \n",
    "    # Convert it in lower case and split them into words\n",
    "    lower_case = letters_only.lower()\n",
    "    words = lower_case.split()\n",
    "    \n",
    "    #In Python, searching a set is much faster than searching\n",
    "    #   a list, so convert the stop words to a set\n",
    "    stops = set(stopwords.words(\"english\")) \n",
    "    \n",
    "    meaningfull_words = [w for w in words if not w in stops]\n",
    "    \n",
    "    \n",
    "    #Join the words back into one string separated by space, \n",
    "    # and return the result.\n",
    "    return( \" \".join( meaningfull_words ))"
   ]
  },
  {
   "cell_type": "code",
   "execution_count": 38,
   "metadata": {
    "collapsed": false
   },
   "outputs": [
    {
     "data": {
      "text/plain": [
       "'This disc was played everyweekend at our parties, so much so it was almost a ritual. Not quite as good as Love Machine but still an awesome disc.'"
      ]
     },
     "execution_count": 38,
     "metadata": {},
     "output_type": "execute_result"
    }
   ],
   "source": [
    "data_df['Review Text'][100]"
   ]
  },
  {
   "cell_type": "code",
   "execution_count": 39,
   "metadata": {
    "collapsed": false
   },
   "outputs": [
    {
     "name": "stderr",
     "output_type": "stream",
     "text": [
      "/home/rajesh/anaconda2/envs/py36/lib/python3.5/site-packages/bs4/__init__.py:181: UserWarning:\n",
      "\n",
      "No parser was explicitly specified, so I'm using the best available HTML parser for this system (\"lxml\"). This usually isn't a problem, but if you run this code on another system, or in a different virtual environment, it may use a different parser and behave differently.\n",
      "\n",
      "The code that caused this warning is on line 193 of the file /home/rajesh/anaconda2/envs/py36/lib/python3.5/runpy.py. To get rid of this warning, change code that looks like this:\n",
      "\n",
      " BeautifulSoup(YOUR_MARKUP})\n",
      "\n",
      "to this:\n",
      "\n",
      " BeautifulSoup(YOUR_MARKUP, \"lxml\")\n",
      "\n",
      "\n"
     ]
    },
    {
     "data": {
      "text/plain": [
       "'disc played everyweekend parties much almost ritual quite good love machine still awesome disc'"
      ]
     },
     "execution_count": 39,
     "metadata": {},
     "output_type": "execute_result"
    }
   ],
   "source": [
    "# Check one example\n",
    "reviews_to_words(data_df['Review Text'][100])"
   ]
  },
  {
   "cell_type": "code",
   "execution_count": 40,
   "metadata": {
    "collapsed": false
   },
   "outputs": [
    {
     "name": "stderr",
     "output_type": "stream",
     "text": [
      "/home/rajesh/anaconda2/envs/py36/lib/python3.5/site-packages/bs4/__init__.py:181: UserWarning:\n",
      "\n",
      "No parser was explicitly specified, so I'm using the best available HTML parser for this system (\"lxml\"). This usually isn't a problem, but if you run this code on another system, or in a different virtual environment, it may use a different parser and behave differently.\n",
      "\n",
      "The code that caused this warning is on line 193 of the file /home/rajesh/anaconda2/envs/py36/lib/python3.5/runpy.py. To get rid of this warning, change code that looks like this:\n",
      "\n",
      " BeautifulSoup(YOUR_MARKUP})\n",
      "\n",
      "to this:\n",
      "\n",
      " BeautifulSoup(YOUR_MARKUP, \"lxml\")\n",
      "\n",
      "\n"
     ]
    },
    {
     "name": "stdout",
     "output_type": "stream",
     "text": [
      "Review 5000 of 30000\n",
      "\n",
      "Review 10000 of 30000\n",
      "\n",
      "Review 15000 of 30000\n",
      "\n",
      "Review 20000 of 30000\n",
      "\n",
      "Review 25000 of 30000\n",
      "\n",
      "Review 30000 of 30000\n",
      "\n"
     ]
    }
   ],
   "source": [
    "num_reviews= data_df['Review Text'].size\n",
    "\n",
    "clean_reviews_all= []\n",
    "\n",
    "for i in range(0, num_reviews):\n",
    "    # If the index is evenly divisible by 400, print a message\n",
    "    if( (i+1)%5000 == 0 ):\n",
    "        print (\"Review %d of %d\\n\" % ( i+1, num_reviews))\n",
    "    \n",
    "    clean_reviews_all.append(reviews_to_words(data_df['Review Text'][i]))"
   ]
  },
  {
   "cell_type": "code",
   "execution_count": 41,
   "metadata": {
    "collapsed": false
   },
   "outputs": [
    {
     "data": {
      "text/plain": [
       "'read book th grade lit class must admit book quite shock many books read nothing attempt delving inner parts human soul book much depicts struggle man outside enemy commits one unspeakable acts time punishes constantly lacks courage confess crime goes period mental physical torture also faces wrath cruel vicious enemy lives nothing torture victim believe excellent book would reccomend anyone'"
      ]
     },
     "execution_count": 41,
     "metadata": {},
     "output_type": "execute_result"
    }
   ],
   "source": [
    "clean_reviews_all[5]"
   ]
  },
  {
   "cell_type": "code",
   "execution_count": 42,
   "metadata": {
    "collapsed": true
   },
   "outputs": [],
   "source": [
    "from nltk.stem.porter import PorterStemmer\n",
    "porter_stemmer = PorterStemmer()\n",
    "\n",
    "clean_reviews_all_1= [[porter_stemmer.stem(word) for word in sentence.split(\" \")] for sentence in clean_reviews_all]\n",
    "clean_reviews_all_1= [\" \".join(sentence) for sentence in clean_reviews_all_1]"
   ]
  },
  {
   "cell_type": "code",
   "execution_count": 43,
   "metadata": {
    "collapsed": false
   },
   "outputs": [
    {
     "data": {
      "text/plain": [
       "'read book th grade lit class must admit book quit shock mani book read noth attempt delv inner part human soul book much depict struggl man outsid enemi commit one unspeak act time punish constantli lack courag confess crime goe period mental physic tortur also face wrath cruel viciou enemi live noth tortur victim believ excel book would reccomend anyon'"
      ]
     },
     "execution_count": 43,
     "metadata": {},
     "output_type": "execute_result"
    }
   ],
   "source": [
    "clean_reviews_all_1[5]"
   ]
  },
  {
   "cell_type": "code",
   "execution_count": 44,
   "metadata": {
    "collapsed": false
   },
   "outputs": [],
   "source": [
    "# Creating a corpus of all words\n",
    "\n",
    "all_text = ''.join([c for c in clean_reviews_all_1])\n",
    "reviews = all_text.split(',')\n",
    "\n",
    "all_text = ' '.join(reviews)\n",
    "words = all_text.split()"
   ]
  },
  {
   "cell_type": "markdown",
   "metadata": {},
   "source": [
    "### Encoding the words\n",
    "create dictionaries that map the words in the vocabulary to integers. Then we can convert each of our reviews into integers so they can be passed into the network."
   ]
  },
  {
   "cell_type": "code",
   "execution_count": 45,
   "metadata": {
    "collapsed": false
   },
   "outputs": [],
   "source": [
    "# Create a dictionary for associating a integer value to each unique word\n",
    "from collections import Counter\n",
    "counts = Counter(words)\n",
    "vocab = sorted(counts, key = counts.get, reverse = True)\n",
    "vocab_to_int = {word:ii for ii , word in enumerate(vocab,1)}\n"
   ]
  },
  {
   "cell_type": "code",
   "execution_count": 46,
   "metadata": {
    "collapsed": false
   },
   "outputs": [],
   "source": [
    "# Map the integer values to the words in each review using above dictionary\n",
    "reviews_ints =[]\n",
    "for r in clean_reviews_all_1:\n",
    "    ri = [vocab_to_int.get(w) for w in r.split(\" \") if vocab_to_int.get(w) is not None]\n",
    "    reviews_ints.append(ri)\n"
   ]
  },
  {
   "cell_type": "code",
   "execution_count": 47,
   "metadata": {
    "collapsed": false
   },
   "outputs": [
    {
     "data": {
      "text/plain": [
       "30000"
      ]
     },
     "execution_count": 47,
     "metadata": {},
     "output_type": "execute_result"
    }
   ],
   "source": [
    "len(reviews_ints)"
   ]
  },
  {
   "cell_type": "code",
   "execution_count": 48,
   "metadata": {
    "collapsed": false
   },
   "outputs": [
    {
     "name": "stdout",
     "output_type": "stream",
     "text": [
      "Zero-length review : 0\n",
      "Maximum length review: 159\n"
     ]
    }
   ],
   "source": [
    "# Just to check if there is any empty review\n",
    "# also check the max size to understand the size of the vector being used with RNN\n",
    "from collections import Counter\n",
    "review_lens = Counter([len(x) for x in reviews_ints])\n",
    "print(\"Zero-length review : {}\".format(review_lens[0]))\n",
    "print(\"Maximum length review: {}\".format(max(review_lens)))"
   ]
  },
  {
   "cell_type": "code",
   "execution_count": 49,
   "metadata": {
    "collapsed": true
   },
   "outputs": [],
   "source": [
    "#Let's truncate to  150 steps. For reviews shorter than 150, \n",
    "#we'll pad with 0s. For reviews longer than 150, we can truncate them to the first 150 characters.\n",
    "reviews_ints = [r[0:150] for r in reviews_ints if len(r) > 0]"
   ]
  },
  {
   "cell_type": "code",
   "execution_count": 50,
   "metadata": {
    "collapsed": true
   },
   "outputs": [],
   "source": [
    "# Padding 0 for the reviews shorter than 150"
   ]
  },
  {
   "cell_type": "code",
   "execution_count": 51,
   "metadata": {
    "collapsed": false
   },
   "outputs": [
    {
     "data": {
      "text/plain": [
       "array([[    0,     0,     0,     0,     0,     0,     0,    54, 14423,\n",
       "         4306, 10488,    67,   228,    31,   128,   237,   237,   775,\n",
       "        10488,   186,     9,  3278,  2374,  1246, 10488,   752,  3278,\n",
       "        45372,   296,   148,   967,  1339,  2051,   476,     5,   337,\n",
       "        10488,   166,    58,  1041,    59,   178,    86,    81,    31,\n",
       "          183,   126,   430,   457,   126],\n",
       "       [   99,   333,   128,    44,   367,  1374,   868,  6262,   382,\n",
       "         1556,   316,  1257,    62,   407,  1154,    64,  1788,  1792,\n",
       "          110,  1074,     2,  6035,    23,    42,   105,   615,   382,\n",
       "          186, 14011,  2693,    69,   748,   291,    64,   163,   138,\n",
       "          550,   109,   225,  1788,   875,     4,  1125,    43,   877,\n",
       "         1788,   114,   382,   283,    68],\n",
       "       [    0,     0,     0,     0,     0,     0,     0,     0,     0,\n",
       "            0,     0,     0,     0,     0,     0,     0,     0,     0,\n",
       "            0,     0,     0,     0,     0,     0,     0,     0,     0,\n",
       "            0,     0,    69, 27856,   457,   275,   206,   590,   144,\n",
       "          688,    69,  1041,   118,   621,   536,    31,   709,    51,\n",
       "           34,   295,   124, 14183,   165],\n",
       "       [ 2747,     1,  4155,    83,   422,  1523,   170,  5849,     5,\n",
       "          300, 10734,     8,   685,    11,    14,   200,   412,     8,\n",
       "          685,   510,  1092,    37,    65,    38,     5,   201,   195,\n",
       "            4,   556,    56,     8,   685,   331,   277,    38,  6062,\n",
       "           10,   556,   336,    47,  1836,  2682, 45181,   486,     8,\n",
       "            1,   211,  2517,   230,   201],\n",
       "       [    0,     0,     0,     0,     0,     0,     0,     0,   190,\n",
       "        46768,   360,    79,  1029,  1856,   429,   335, 48162,  6920,\n",
       "          271,    16,   690,   641,   988,  1521,   174,   690, 18269,\n",
       "          177,  2672,  1535,  1296,    38,  2537,    23,    57,   101,\n",
       "           28,    22, 59652,   211,   277,  4973,  1369, 45487,   200,\n",
       "         1184,  6073,  2852,     9,    96]])"
      ]
     },
     "execution_count": 51,
     "metadata": {},
     "output_type": "execute_result"
    }
   ],
   "source": [
    "seq_len=150\n",
    "features = np.zeros((len(reviews_ints), seq_len), dtype =int)\n",
    "\n",
    "for i, row in enumerate(reviews_ints):\n",
    "    features[i, -len(row):] = np.array(row)[:seq_len]\n",
    "    \n",
    "features[:5, 100:150]\n"
   ]
  },
  {
   "cell_type": "code",
   "execution_count": 52,
   "metadata": {
    "collapsed": false
   },
   "outputs": [
    {
     "name": "stdout",
     "output_type": "stream",
     "text": [
      "labels shape (30000,)\n",
      "features shape (30000, 150)\n"
     ]
    }
   ],
   "source": [
    "labels = data_df['Rating']\n",
    "\n",
    "print (\"labels shape\", labels.shape)\n",
    "print (\"features shape\", features.shape)"
   ]
  },
  {
   "cell_type": "code",
   "execution_count": 53,
   "metadata": {
    "collapsed": false
   },
   "outputs": [
    {
     "name": "stdout",
     "output_type": "stream",
     "text": [
      "\t\t\tFeature Shapes:\n",
      "Train set: \t\t(24000, 150) \n",
      "Test set: \t\t(6000, 150)\n",
      "label set: \t\t(24000,) \n",
      "Test label set: \t\t(6000,)\n"
     ]
    }
   ],
   "source": [
    "from sklearn.model_selection import train_test_split\n",
    "train_x, test_x, train_y, test_y = train_test_split(features, labels, test_size =0.2, random_state=0)\n",
    "\n",
    "print(\"\\t\\t\\tFeature Shapes:\")\n",
    "print(\"Train set: \\t\\t{}\".format(train_x.shape), \n",
    "      \"\\nTest set: \\t\\t{}\".format(test_x.shape))\n",
    "\n",
    "print(\"label set: \\t\\t{}\".format(train_y.shape), \n",
    "      \"\\nTest label set: \\t\\t{}\".format(test_y.shape))"
   ]
  },
  {
   "cell_type": "markdown",
   "metadata": {},
   "source": [
    "### Build the Graph"
   ]
  },
  {
   "cell_type": "code",
   "execution_count": 54,
   "metadata": {
    "collapsed": true
   },
   "outputs": [],
   "source": [
    "# defining hyperparams\n",
    "\n",
    "lstm_size=128\n",
    "lstm_layers = 2\n",
    "batch_size =200\n",
    "learning_rate =0.01"
   ]
  },
  {
   "cell_type": "code",
   "execution_count": 55,
   "metadata": {
    "collapsed": false
   },
   "outputs": [
    {
     "data": {
      "text/plain": [
       "66634"
      ]
     },
     "execution_count": 55,
     "metadata": {},
     "output_type": "execute_result"
    }
   ],
   "source": [
    "n_words = len(vocab_to_int)+1\n",
    "n_words"
   ]
  },
  {
   "cell_type": "code",
   "execution_count": 56,
   "metadata": {
    "collapsed": false
   },
   "outputs": [],
   "source": [
    "# Create the graph object\n",
    "tf.reset_default_graph()\n",
    "with tf.name_scope('inputs'):\n",
    "    inputs_ = tf.placeholder(tf.int32, [None, None], name ='inputs')\n",
    "    labels_ = tf.placeholder(tf.int32, [None, None], name = 'labels')\n",
    "    keep_prob = tf.placeholder(tf.float32, name ='keep_prob')"
   ]
  },
  {
   "cell_type": "code",
   "execution_count": 57,
   "metadata": {
    "collapsed": false
   },
   "outputs": [],
   "source": [
    "embed_size =500\n",
    "\n",
    "with tf.name_scope(\"Embeddings\"):\n",
    "    embedding = tf.Variable(tf.random_uniform((n_words, embed_size), -1,1))\n",
    "    embed = tf.nn.embedding_lookup(embedding, inputs_)"
   ]
  },
  {
   "cell_type": "code",
   "execution_count": 62,
   "metadata": {
    "collapsed": false
   },
   "outputs": [],
   "source": [
    "# LSTM Cell\n",
    "\n",
    "\n",
    "def lstm_cell():\n",
    "    # Your basic LSTM cell\n",
    "    lstm = tf.contrib.rnn.BasicLSTMCell(lstm_size, reuse=tf.get_variable_scope().reuse)\n",
    "    # Add dropout to the cell\n",
    "    return tf.contrib.rnn.DropoutWrapper(lstm, output_keep_prob=keep_prob)\n",
    "\n",
    "with tf.name_scope(\"RNN_layers\"):\n",
    "    # Stack up multiple LSTM layers, for deep learning\n",
    "    cell = tf.contrib.rnn.MultiRNNCell([lstm_cell() for _ in range(lstm_layers)])\n",
    "    \n",
    "    # Getting an initial state of all zeros\n",
    "    initial_state = cell.zero_state(batch_size, tf.float32)"
   ]
  },
  {
   "cell_type": "markdown",
   "metadata": {
    "collapsed": true
   },
   "source": [
    "## RNN Forward Pass"
   ]
  },
  {
   "cell_type": "code",
   "execution_count": 63,
   "metadata": {
    "collapsed": true
   },
   "outputs": [],
   "source": [
    "with tf.name_scope(\"RNN_Forward\"):\n",
    "    outputs, final_state = tf.nn.dynamic_rnn(cell, embed, initial_state=initial_state)"
   ]
  },
  {
   "cell_type": "markdown",
   "metadata": {
    "collapsed": true
   },
   "source": [
    "## Output\n",
    "\n",
    "We only care about the final output, we'll be using that as our sentiment prediction. So we need to grab the last output with outputs[:, -1], the calculate the cost from that and labels_."
   ]
  },
  {
   "cell_type": "code",
   "execution_count": 68,
   "metadata": {
    "collapsed": true
   },
   "outputs": [],
   "source": [
    "with tf.name_scope(\"Prediction\"):\n",
    "    predictions = tf.contrib.layers.fully_connected(outputs[:,-1], 1 , activation_fn=tf.sigmoid)\n",
    "    tf.summary.histogram(\"predictions\", predictions)\n",
    "with tf.name_scope(\"cost\"):\n",
    "    cost= tf.losses.mean_squared_error(labels_, predictions)\n",
    "    tf.summary.scalar(\"cost\", cost)\n",
    "with tf.name_scope(\"train\"):\n",
    "    optimizer = tf.train.AdamOptimizer(learning_rate).minimize(cost)\n",
    "    \n",
    "merged = tf.summary.merge_all()"
   ]
  },
  {
   "cell_type": "markdown",
   "metadata": {},
   "source": [
    "## Validation Accuracy"
   ]
  },
  {
   "cell_type": "code",
   "execution_count": 66,
   "metadata": {
    "collapsed": false
   },
   "outputs": [],
   "source": [
    "with tf.name_scope(\"validation\"):\n",
    "    correct_pred = tf.equal(tf.cast(tf.round(predictions), tf.int32), labels_)\n",
    "    accuracy= tf.reduce_mean(tf.cast(correct_pred, tf.float32))"
   ]
  },
  {
   "cell_type": "markdown",
   "metadata": {},
   "source": [
    "## Batching\n",
    "This is a simple function for returning batches from our data. First it removes data such that we only have full batches. Then it iterates through the x and y arrays and returns slices out of those arrays with size [batch_size]"
   ]
  },
  {
   "cell_type": "code",
   "execution_count": 71,
   "metadata": {
    "collapsed": true
   },
   "outputs": [],
   "source": [
    "def get_batches(x,y,batch_size=2000):\n",
    "    n_batches=len(x)//batch_size\n",
    "    x,y = x[:n_batches*batch_size], y[:n_batches*batch_size]\n",
    "    \n",
    "    for ii in range (0, len(x), batch_size):\n",
    "        yield x[ii:ii+batch_size], y[ii:ii+batch_size]"
   ]
  },
  {
   "cell_type": "markdown",
   "metadata": {},
   "source": [
    "## Training"
   ]
  },
  {
   "cell_type": "code",
   "execution_count": 72,
   "metadata": {
    "collapsed": false
   },
   "outputs": [
    {
     "name": "stdout",
     "output_type": "stream",
     "text": [
      "Epoch: 0/10 Iteration: 50 Train loss: 0.189\n",
      "Epoch: 0/10 Iteration: 100 Train loss: 0.201\n",
      "Val acc: 0.403\n",
      "Epoch: 1/10 Iteration: 150 Train loss: 0.116\n",
      "Epoch: 1/10 Iteration: 200 Train loss: 0.096\n",
      "Epoch: 2/10 Iteration: 250 Train loss: 0.113\n",
      "Val acc: 0.305\n",
      "Epoch: 2/10 Iteration: 300 Train loss: 0.097\n",
      "Epoch: 2/10 Iteration: 350 Train loss: 0.090\n",
      "Val acc: 0.409\n",
      "Epoch: 3/10 Iteration: 400 Train loss: 0.053\n",
      "Epoch: 3/10 Iteration: 450 Train loss: 0.062\n",
      "Epoch: 4/10 Iteration: 500 Train loss: 0.038\n",
      "Val acc: 0.423\n",
      "Epoch: 4/10 Iteration: 550 Train loss: 0.043\n",
      "Epoch: 4/10 Iteration: 600 Train loss: 0.062\n",
      "Val acc: 0.462\n",
      "Epoch: 5/10 Iteration: 650 Train loss: 0.022\n",
      "Epoch: 5/10 Iteration: 700 Train loss: 0.054\n",
      "Epoch: 6/10 Iteration: 750 Train loss: 0.029\n",
      "Val acc: 0.496\n",
      "Epoch: 6/10 Iteration: 800 Train loss: 0.055\n",
      "Epoch: 7/10 Iteration: 850 Train loss: 0.052\n",
      "Val acc: 0.465\n",
      "Epoch: 7/10 Iteration: 900 Train loss: 0.038\n",
      "Epoch: 7/10 Iteration: 950 Train loss: 0.053\n",
      "Epoch: 8/10 Iteration: 1000 Train loss: 0.027\n",
      "Val acc: 0.511\n",
      "Epoch: 8/10 Iteration: 1050 Train loss: 0.048\n",
      "Epoch: 9/10 Iteration: 1100 Train loss: 0.029\n",
      "Val acc: 0.451\n",
      "Epoch: 9/10 Iteration: 1150 Train loss: 0.039\n",
      "Epoch: 9/10 Iteration: 1200 Train loss: 0.035\n"
     ]
    }
   ],
   "source": [
    "epochs =10\n",
    "\n",
    "saver = tf.train.Saver()\n",
    "\n",
    "with tf.Session() as sess:\n",
    "    sess.run(tf.global_variables_initializer())\n",
    "    \n",
    "    train_writer = tf.summary.FileWriter('./logs/tb/train', sess.graph)\n",
    "    test_writer = tf.summary.FileWriter('./logs/tb/test', sess.graph)\n",
    "    iteration =10\n",
    "    \n",
    "    for e in range(epochs):\n",
    "        state = sess.run(initial_state)\n",
    "        \n",
    "        for ii, (x,y) in enumerate(get_batches(train_x, train_y, batch_size),1):\n",
    "            feed = {inputs_:x, labels_:y[:,None], keep_prob:0.3, initial_state:state}\n",
    "            summary, loss, state, _ = sess.run([merged,cost, final_state, optimizer],feed_dict=feed )\n",
    "            \n",
    "            train_writer.add_summary(summary, iteration)\n",
    "            \n",
    "            if iteration%50==0:\n",
    "                print(\"Epoch: {}/{}\".format(e, epochs),\n",
    "                      \"Iteration: {}\".format(iteration),\n",
    "                      \"Train loss: {:.3f}\".format(loss))\n",
    "            \n",
    "            if iteration%125==0:\n",
    "                val_acc = []\n",
    "                val_state = sess.run(cell.zero_state(batch_size, tf.float32))\n",
    "                for x, y in get_batches(test_x, test_y, batch_size):\n",
    "                    feed = {inputs_: x,\n",
    "                            labels_: y[:, None],\n",
    "                            keep_prob: 1,\n",
    "                            initial_state: val_state}\n",
    "                    summary, batch_acc, val_state = sess.run([merged, accuracy, final_state], feed_dict=feed)\n",
    "                    val_acc.append(batch_acc)\n",
    "                print(\"Val acc: {:.3f}\".format(np.mean(val_acc)))\n",
    "            iteration +=1\n",
    "            \n",
    "            test_writer.add_summary(summary, iteration)\n",
    "            saver.save(sess, \"checkpoints/reviews.ckpt\")\n",
    "    saver.save(sess,'checkpoints/reviews.ckpt')\n",
    "            "
   ]
  },
  {
   "cell_type": "code",
   "execution_count": 73,
   "metadata": {
    "collapsed": false
   },
   "outputs": [
    {
     "name": "stdout",
     "output_type": "stream",
     "text": [
      "INFO:tensorflow:Restoring parameters from checkpoints/reviews.ckpt\n",
      " Test Accuracy: 0.430500\n"
     ]
    }
   ],
   "source": [
    "test_acc=[]\n",
    "with tf.Session() as sess:\n",
    "    saver.restore(sess, \"checkpoints/reviews.ckpt\")\n",
    "    test_state= sess.run(cell.zero_state(batch_size, tf.float32))\n",
    "    \n",
    "    for x, y in get_batches(test_x, test_y, batch_size):\n",
    "        feed = {inputs_: x,\n",
    "               labels_: y[:,None],\n",
    "               keep_prob:1, \n",
    "               initial_state: test_state}\n",
    "        batch_acc, test_state = sess.run([accuracy, final_state], feed_dict=feed)\n",
    "        test_acc.append(batch_acc)\n",
    "    \n",
    "    print (\" Test Accuracy: {:3f}\".format(np.mean(test_acc)))"
   ]
  },
  {
   "cell_type": "code",
   "execution_count": null,
   "metadata": {
    "collapsed": true
   },
   "outputs": [],
   "source": []
  },
  {
   "cell_type": "code",
   "execution_count": null,
   "metadata": {
    "collapsed": true
   },
   "outputs": [],
   "source": []
  },
  {
   "cell_type": "code",
   "execution_count": null,
   "metadata": {
    "collapsed": true
   },
   "outputs": [],
   "source": []
  },
  {
   "cell_type": "code",
   "execution_count": null,
   "metadata": {
    "collapsed": true
   },
   "outputs": [],
   "source": []
  },
  {
   "cell_type": "code",
   "execution_count": null,
   "metadata": {
    "collapsed": true
   },
   "outputs": [],
   "source": []
  },
  {
   "cell_type": "code",
   "execution_count": null,
   "metadata": {
    "collapsed": true
   },
   "outputs": [],
   "source": []
  },
  {
   "cell_type": "markdown",
   "metadata": {},
   "source": [
    "## Try applying Bag of words vector in RNN\n",
    "## Similarly try apply vocab_to int vector in ML models"
   ]
  },
  {
   "cell_type": "code",
   "execution_count": 94,
   "metadata": {
    "collapsed": false
   },
   "outputs": [
    {
     "name": "stdout",
     "output_type": "stream",
     "text": [
      "creating the bag of words\n",
      "(30000, 500)\n",
      "[[0 1 0 ..., 0 0 0]\n",
      " [0 0 0 ..., 0 0 0]\n",
      " [0 0 0 ..., 0 1 0]\n",
      " ..., \n",
      " [0 0 0 ..., 0 0 0]\n",
      " [0 0 0 ..., 0 0 0]\n",
      " [0 0 0 ..., 0 0 0]]\n"
     ]
    }
   ],
   "source": [
    "print (\"creating the bag of words\")\n",
    "\n",
    "from sklearn.feature_extraction.text import CountVectorizer\n",
    "\n",
    "# Played with different max_features hyperparameter\n",
    "vectorizer = CountVectorizer(analyzer = \"word\", tokenizer = None, preprocessor = None, stop_words = None\n",
    "                             ,max_features=500)\n",
    "train_data_features = vectorizer.fit_transform(clean_reviews_all_1)\n",
    "\n",
    "# Numpy arrays are easy to work with, so convert the result to an \n",
    "# array\n",
    "train_data_features = train_data_features.toarray()\n",
    "\n",
    "print ((train_data_features).shape)\n",
    "\n",
    "print (train_data_features)"
   ]
  },
  {
   "cell_type": "code",
   "execution_count": 95,
   "metadata": {
    "collapsed": false
   },
   "outputs": [
    {
     "data": {
      "text/plain": [
       "array([0, 0, 0, 0, 0, 0, 0, 0, 0, 0, 0, 0, 0, 0, 0, 0, 0, 3, 0, 0, 0, 1, 0,\n",
       "       0, 0, 0, 0, 0, 0, 0, 0, 0, 0, 0, 0, 0, 0, 0, 0, 1, 0, 0, 1, 0, 0, 0,\n",
       "       0, 2, 0, 0, 0, 0, 0, 0, 0, 0, 0, 0, 0, 0, 0, 0, 0, 0, 0, 0, 0, 0, 0,\n",
       "       0, 0, 0, 0, 0, 1, 0, 0, 0, 0, 0, 0, 1, 0, 0, 0, 0, 0, 0, 0, 0, 0, 0,\n",
       "       0, 0, 0, 0, 0, 0, 0, 0, 0, 0, 0, 0, 0, 0, 0, 0, 0, 0, 0, 0, 0, 0, 0,\n",
       "       0, 0, 0, 0, 0, 0, 0, 0, 0, 0, 0, 0, 0, 0, 0, 0, 0, 0, 0, 0, 1, 0, 0,\n",
       "       0, 0, 0, 0, 0, 0, 0, 0, 0, 0, 0, 0, 1, 0, 0, 0, 0, 0, 0, 0, 0, 0, 0,\n",
       "       0, 1, 0, 0, 0, 0, 0, 0, 0, 0, 0, 0, 0, 0, 0, 0, 0, 0, 1, 0, 0, 0, 0,\n",
       "       0, 0, 0, 0, 0, 2, 0, 0, 0, 0, 0, 1, 0, 0, 0, 1, 0, 0, 0, 0, 0, 0, 0,\n",
       "       0, 0, 0, 0, 0, 0, 0, 0, 0, 0, 0, 0, 0, 0, 0, 0, 0, 0, 0, 0, 0, 0, 0,\n",
       "       0, 0, 0, 0, 0, 0, 0, 0, 0, 0, 0, 0, 0, 0, 0, 0, 0, 0, 0, 0, 0, 0, 0,\n",
       "       1, 0, 0, 0, 0, 0, 0, 0, 0, 0, 0, 0, 0, 0, 0, 0, 0, 0, 0, 0, 0, 0, 0,\n",
       "       0, 0, 0, 0, 0, 0, 0, 0, 0, 0, 0, 0, 0, 0, 0, 0, 0, 0, 0, 0, 0, 0, 0,\n",
       "       0, 0, 0, 0, 0, 0, 0, 0, 0, 0, 0, 0, 0, 0, 0, 0, 0, 0, 1, 0, 0, 0, 0,\n",
       "       0, 0, 0, 0, 0, 0, 0, 0, 0, 0, 0, 0, 0, 0, 0, 0, 0, 0, 0, 0, 0, 0, 0,\n",
       "       0, 0, 0, 0, 0, 0, 0, 0, 0, 0, 0, 0, 0, 0, 0, 0, 0, 0, 0, 0, 0, 0, 0,\n",
       "       0, 1, 0, 0, 0, 0, 0, 0, 0, 0, 0, 0, 0, 0, 0, 0, 0, 0, 0, 0, 0, 0, 0,\n",
       "       0, 0, 0, 0, 1, 0, 0, 0, 0, 0, 0, 0, 0, 0, 0, 0, 0, 0, 0, 0, 0, 0, 0,\n",
       "       1, 0, 0, 0, 0, 0, 0, 0, 0, 0, 0, 0, 0, 0, 0, 0, 0, 0, 0, 0, 0, 0, 0,\n",
       "       0, 0, 0, 0, 1, 0, 0, 0, 0, 0, 0, 0, 1, 0, 0, 0, 0, 0, 0, 0, 0, 0, 0,\n",
       "       0, 0, 0, 1, 0, 0, 0, 0, 0, 0, 0, 0, 0, 0, 0, 0, 0, 0, 1, 0, 0, 0, 0,\n",
       "       0, 0, 0, 1, 0, 0, 0, 0, 0, 0, 0, 0, 0, 0, 0, 0, 0], dtype=int64)"
      ]
     },
     "execution_count": 95,
     "metadata": {},
     "output_type": "execute_result"
    }
   ],
   "source": [
    "train_data_features[1][:]\n"
   ]
  },
  {
   "cell_type": "code",
   "execution_count": 96,
   "metadata": {
    "collapsed": false
   },
   "outputs": [
    {
     "name": "stdout",
     "output_type": "stream",
     "text": [
      "['abl', 'absolut', 'act', 'action', 'actual', 'add', 'age', 'ago', 'album', 'almost', 'along', 'alreadi', 'also', 'although', 'alway', 'amaz', 'amazon', 'american', 'anim', 'annoy', 'anoth', 'anyon', 'anyth', 'appear', 'around', 'arriv', 'ask', 'author', 'avail', 'away', 'babi', 'back', 'bad', 'bag', 'band', 'base', 'basic', 'batteri', 'beauti', 'becom', 'begin', 'believ', 'best', 'better', 'big', 'bit', 'black', 'book', 'bore', 'bought', 'box', 'boy', 'brand', 'break', 'buy', 'call', 'came', 'camera', 'cannot', 'car', 'care', 'case', 'cd', 'chang', 'chapter', 'charact', 'charg', 'cheap', 'check', 'child', 'children', 'christma', 'classic', 'clean', 'clear', 'close', 'collect', 'color', 'come', 'compani', 'compar', 'complet', 'comput', 'connect', 'consid', 'contain', 'continu', 'control', 'cool', 'copi', 'cost', 'could', 'coupl', 'cours', 'cover', 'creat', 'custom', 'cut', 'date', 'daughter', 'day', 'deal', 'decid', 'definit', 'describ', 'descript', 'design', 'detail', 'develop', 'die', 'differ', 'difficult', 'direct', 'disappoint', 'disc', 'dog', 'done', 'dont', 'drive', 'dvd', 'earli', 'easi', 'easili', 'edit', 'effect', 'either', 'els', 'end', 'enjoy', 'enough', 'entertain', 'entir', 'episod', 'especi', 'etc', 'even', 'ever', 'everi', 'everyon', 'everyth', 'exampl', 'excel', 'except', 'excit', 'expect', 'experi', 'extra', 'extrem', 'eye', 'face', 'fact', 'fall', 'famili', 'fan', 'far', 'fast', 'favorit', 'featur', 'feel', 'felt', 'figur', 'film', 'final', 'find', 'fine', 'finish', 'first', 'fit', 'follow', 'forward', 'found', 'four', 'free', 'friend', 'full', 'fun', 'funni', 'game', 'gave', 'gener', 'get', 'gift', 'girl', 'give', 'given', 'go', 'goe', 'good', 'got', 'great', 'guess', 'guy', 'half', 'hand', 'handl', 'happen', 'happi', 'hard', 'hate', 'head', 'hear', 'heard', 'heart', 'help', 'high', 'highli', 'histori', 'hit', 'hold', 'home', 'hope', 'hot', 'hour', 'hous', 'howev', 'huge', 'idea', 'import', 'impress', 'includ', 'inform', 'insid', 'instal', 'instead', 'interest', 'issu', 'item', 'job', 'keep', 'kid', 'kind', 'know', 'lack', 'larg', 'last', 'later', 'learn', 'least', 'leav', 'left', 'less', 'let', 'level', 'life', 'light', 'like', 'line', 'list', 'listen', 'littl', 'live', 'long', 'longer', 'look', 'lost', 'lot', 'love', 'low', 'lyric', 'machin', 'made', 'main', 'make', 'man', 'mani', 'materi', 'matter', 'may', 'mayb', 'mean', 'mention', 'might', 'mind', 'minut', 'miss', 'mix', 'model', 'money', 'month', 'move', 'movi', 'mr', 'much', 'music', 'must', 'name', 'need', 'never', 'new', 'next', 'nice', 'night', 'note', 'noth', 'notic', 'novel', 'number', 'offer', 'often', 'ok', 'old', 'one', 'open', 'opinion', 'order', 'origin', 'other', 'overal', 'packag', 'page', 'paper', 'part', 'past', 'pay', 'peopl', 'perfect', 'perform', 'person', 'phone', 'pick', 'pictur', 'piec', 'place', 'plastic', 'play', 'player', 'pleas', 'plot', 'plu', 'point', 'poor', 'pop', 'possibl', 'power', 'present', 'pretti', 'previou', 'price', 'print', 'probabl', 'problem', 'produc', 'product', 'program', 'provid', 'purchas', 'put', 'qualiti', 'question', 'quickli', 'quit', 'rate', 'rather', 'read', 'reader', 'real', 'realli', 'reason', 'receiv', 'recent', 'recommend', 'record', 'refer', 'releas', 'rememb', 'replac', 'rest', 'return', 'review', 'right', 'rock', 'room', 'run', 'said', 'save', 'saw', 'say', 'scene', 'school', 'screen', 'season', 'second', 'see', 'seem', 'seen', 'self', 'sens', 'seri', 'servic', 'set', 'sever', 'ship', 'short', 'show', 'side', 'simpl', 'simpli', 'sinc', 'sing', 'singl', 'size', 'slow', 'small', 'someon', 'someth', 'sometim', 'son', 'song', 'sound', 'special', 'spend', 'stand', 'star', 'start', 'state', 'stay', 'stick', 'still', 'stop', 'store', 'stori', 'stuff', 'style', 'subject', 'suggest', 'support', 'suppos', 'sure', 'surpris', 'system', 'take', 'talk', 'tast', 'tell', 'terribl', 'thank', 'thing', 'think', 'though', 'thought', 'three', 'time', 'titl', 'today', 'togeth', 'told', 'took', 'tool', 'top', 'total', 'toy', 'track', 'tri', 'true', 'truli', 'turn', 'tv', 'two', 'type', 'understand', 'unfortun', 'unit', 'unless', 'us', 'use', 'usual', 'version', 'video', 'view', 'voic', 'wait', 'want', 'war', 'wast', 'watch', 'water', 'way', 'week', 'well', 'went', 'white', 'whole', 'wish', 'within', 'without', 'women', 'wonder', 'word', 'work', 'world', 'worst', 'worth', 'would', 'write', 'written', 'wrong', 'ye', 'year', 'yet', 'young']\n"
     ]
    }
   ],
   "source": [
    "vocab= vectorizer.get_feature_names()\n",
    "print (vocab)"
   ]
  },
  {
   "cell_type": "code",
   "execution_count": 99,
   "metadata": {
    "collapsed": false
   },
   "outputs": [],
   "source": [
    "from sklearn.model_selection import train_test_split\n",
    "\n",
    "X_train, X_test, y_train, y_test = train_test_split(train_data_features, data_df['Rating'], test_size =0.2, random_state=0)"
   ]
  },
  {
   "cell_type": "code",
   "execution_count": 100,
   "metadata": {
    "collapsed": true
   },
   "outputs": [],
   "source": [
    "from sklearn.ensemble import RandomForestClassifier\n",
    "RF_clf = RandomForestClassifier(max_depth=2, random_state=0)\n",
    "RF_clf.fit(X_train,y_train)\n",
    "RFpred_train= RF_clf.predict(X_train)\n",
    "RFpred_test= RF_clf.predict(X_test)"
   ]
  },
  {
   "cell_type": "code",
   "execution_count": 101,
   "metadata": {
    "collapsed": false
   },
   "outputs": [
    {
     "name": "stdout",
     "output_type": "stream",
     "text": [
      "train score:  0.51002734609\n",
      "test score:  0.511411943919\n"
     ]
    }
   ],
   "source": [
    "from sklearn.metrics import roc_auc_score\n",
    "\n",
    "print (\"train score: \", roc_auc_score(y_train,RFpred_train))\n",
    "print (\"test score: \", roc_auc_score(y_test,RFpred_test))"
   ]
  },
  {
   "cell_type": "code",
   "execution_count": 102,
   "metadata": {
    "collapsed": false
   },
   "outputs": [
    {
     "data": {
      "text/plain": [
       "LogisticRegression(C=1.0, class_weight=None, dual=False, fit_intercept=True,\n",
       "          intercept_scaling=1, max_iter=100, multi_class='ovr', n_jobs=1,\n",
       "          penalty='l2', random_state=None, solver='liblinear', tol=0.0001,\n",
       "          verbose=0, warm_start=False)"
      ]
     },
     "execution_count": 102,
     "metadata": {},
     "output_type": "execute_result"
    }
   ],
   "source": [
    "from sklearn.linear_model import LogisticRegression\n",
    "LR_clf= LogisticRegression()\n",
    "LR_clf.fit(X_train, y_train)"
   ]
  },
  {
   "cell_type": "code",
   "execution_count": 103,
   "metadata": {
    "collapsed": false
   },
   "outputs": [
    {
     "name": "stdout",
     "output_type": "stream",
     "text": [
      "train score:  0.742686744053\n",
      "test score:  0.719628487843\n"
     ]
    }
   ],
   "source": [
    "LRpred_train= LR_clf.predict(X_train)\n",
    "LRpred_test= LR_clf.predict(X_test)\n",
    "\n",
    "print (\"train score: \", roc_auc_score(y_train,LRpred_train))\n",
    "print (\"test score: \", roc_auc_score(y_test,LRpred_test))"
   ]
  },
  {
   "cell_type": "code",
   "execution_count": null,
   "metadata": {
    "collapsed": true
   },
   "outputs": [],
   "source": []
  }
 ],
 "metadata": {
  "anaconda-cloud": {},
  "kernelspec": {
   "display_name": "Python [conda env:py36]",
   "language": "python",
   "name": "conda-env-py36-py"
  },
  "language_info": {
   "codemirror_mode": {
    "name": "ipython",
    "version": 3
   },
   "file_extension": ".py",
   "mimetype": "text/x-python",
   "name": "python",
   "nbconvert_exporter": "python",
   "pygments_lexer": "ipython3",
   "version": "3.5.3"
  }
 },
 "nbformat": 4,
 "nbformat_minor": 1
}
